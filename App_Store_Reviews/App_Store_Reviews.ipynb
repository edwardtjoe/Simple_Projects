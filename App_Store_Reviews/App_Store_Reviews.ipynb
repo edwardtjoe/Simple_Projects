{
 "cells": [
  {
   "cell_type": "markdown",
   "id": "3ad4dbf6",
   "metadata": {},
   "source": [
    "# Scraping Apple App Store Reviews"
   ]
  },
  {
   "cell_type": "markdown",
   "id": "8026083e",
   "metadata": {},
   "source": [
    "In this quick mini-project, we find out how we can scrape app store reviews and save them in a dataframe. The API that we will be using can be found [here](https://pypi.org/project/app-store-scraper/#quickstart)\n",
    "\n",
    "Install API: ```pip3 install app-store-scraper```."
   ]
  },
  {
   "cell_type": "code",
   "execution_count": 1,
   "id": "0a1eeb3b",
   "metadata": {},
   "outputs": [],
   "source": [
    "# Basic imports\n",
    "import pandas as pd\n",
    "import numpy as np\n",
    "\n",
    "# Library used to scrape app store\n",
    "from app_store_scraper import AppStore\n",
    "\n",
    "# For date time formatting\n",
    "import datetime as dt"
   ]
  },
  {
   "cell_type": "markdown",
   "id": "af3a7966",
   "metadata": {},
   "source": [
    "## Scraping the App Store"
   ]
  },
  {
   "cell_type": "markdown",
   "id": "9ecf1cb3",
   "metadata": {},
   "source": [
    "Visit the target app's Apple Store page and get it's app name and app id from the web address. For the following example, we will be scraping the reviews from ABillion. As a side note, ABillion is a social media platform for reviews for mainly vegan food and products. Visit their website [here](https://www.abillion.com). For ABillion, the link to the App Store page is ```https://apps.apple.com/us/app/abillionveg/id1377119949```.\n",
    "\n",
    "From the web address, we get ```app_name: abillionveg``` and ```app_id: 1377119949```.\n",
    "\n",
    "Set ```how_many``` to the number of reviews you want to find. In the following example, we set it to 200, but since the app does not have as many reviews, we get 161 reviews instead."
   ]
  },
  {
   "cell_type": "code",
   "execution_count": 2,
   "id": "852a2936",
   "metadata": {},
   "outputs": [
    {
     "name": "stderr",
     "output_type": "stream",
     "text": [
      "2022-02-03 17:36:13,081 [INFO] Base - Initialised: AppStore('us', 'abillionveg', 1377119949)\n",
      "2022-02-03 17:36:13,083 [INFO] Base - Ready to fetch reviews from: https://apps.apple.com/us/app/abillionveg/id1377119949\n",
      "2022-02-03 17:36:15,930 [INFO] Base - [id:1377119949] Fetched 161 reviews (161 fetched in total)\n"
     ]
    }
   ],
   "source": [
    "app = AppStore(country=\"us\", app_name=\"abillionveg\", app_id=1377119949)\n",
    "app.review(how_many=200)"
   ]
  },
  {
   "cell_type": "markdown",
   "id": "577d6a36",
   "metadata": {},
   "source": [
    "From viewing one review, we see that the data is formatted as a nested dictionary. We need to convert this into a dataframe with the appropriate column names."
   ]
  },
  {
   "cell_type": "code",
   "execution_count": 3,
   "id": "398507a1",
   "metadata": {},
   "outputs": [
    {
     "data": {
      "text/plain": [
       "{'review': 'I found this from an instagram ad and decided to try it out. I was playing around with it and reviewing some products/dishes that I had saved in my phone, and 10 reviews later, I “unlocked” a $10 donation to a sanctuary of my choice! I was SO surprised and instantly started loving this app even more. Check out their website: 1 review = $1 donated. Write 10 reviews and donate $10. This is not money out of your own pocket, it’s directly from abillionveg. I will continue writing reviews so I can unlock more donations. LOVE their mission of bringing the veggie community together while also supporting rescue sanctuaries and orgs. I’d give them 100 stars if possible.\\n\\nUpdate: I wish there was some type of “search” bar on your own profile so you can easily find one of your past reviews to update it. Your profile list can get pretty long once you review dozens of products/dishes. Also, they will make you remove your review of a product that is not 100% plant based (I don’t agree with this... if something is meat-free but not vegan I would like to see reviews so I can know to NOT buy that product. A bunch of people commented on my post saying they had no idea the product wasn’t vegan so I think the info is helpful). I’m keeping it at 5 stars though because I love their mission.',\n",
       " 'rating': 5,\n",
       " 'isEdited': True,\n",
       " 'title': 'Reviews = donations to sanctuaries!!!',\n",
       " 'date': datetime.datetime(2020, 1, 14, 19, 10, 13),\n",
       " 'developerResponse': {'id': 11122362,\n",
       "  'body': \"Hey Sarah,\\n\\nMeans so much to us that you got this far and are going beyond 10 reviews. Every one of those reviews helps make it easier for other people to discover and choose vegan options and it makes a huge impact for our animal welfare partners that work tirelessly but are mostly all scraping by on small donations. We're working hard to change the face of social media and connect it with social purpose and it's because of amazing members in the community like you that we have a chance to make an impact. Thank you for being part of this.\\n\\nAll the best,\\nVikas (follow me on the app, I'm @vikas)\",\n",
       "  'modified': '2020-01-14T19:10:13Z'},\n",
       " 'userName': 'Sarahhhhhhho'}"
      ]
     },
     "execution_count": 3,
     "metadata": {},
     "output_type": "execute_result"
    }
   ],
   "source": [
    "app.reviews[0]"
   ]
  },
  {
   "cell_type": "code",
   "execution_count": 4,
   "id": "f5a63e97",
   "metadata": {},
   "outputs": [
    {
     "data": {
      "text/html": [
       "<div>\n",
       "<style scoped>\n",
       "    .dataframe tbody tr th:only-of-type {\n",
       "        vertical-align: middle;\n",
       "    }\n",
       "\n",
       "    .dataframe tbody tr th {\n",
       "        vertical-align: top;\n",
       "    }\n",
       "\n",
       "    .dataframe thead th {\n",
       "        text-align: right;\n",
       "    }\n",
       "</style>\n",
       "<table border=\"1\" class=\"dataframe\">\n",
       "  <thead>\n",
       "    <tr style=\"text-align: right;\">\n",
       "      <th></th>\n",
       "      <th>review</th>\n",
       "      <th>rating</th>\n",
       "      <th>isEdited</th>\n",
       "      <th>title</th>\n",
       "      <th>date</th>\n",
       "      <th>developerResponse</th>\n",
       "      <th>userName</th>\n",
       "    </tr>\n",
       "  </thead>\n",
       "  <tbody>\n",
       "    <tr>\n",
       "      <th>0</th>\n",
       "      <td>I found this from an instagram ad and decided ...</td>\n",
       "      <td>5</td>\n",
       "      <td>True</td>\n",
       "      <td>Reviews = donations to sanctuaries!!!</td>\n",
       "      <td>2020-01-14 19:10:13</td>\n",
       "      <td>{'id': 11122362, 'body': 'Hey Sarah,\n",
       "\n",
       "Means so...</td>\n",
       "      <td>Sarahhhhhhho</td>\n",
       "    </tr>\n",
       "    <tr>\n",
       "      <th>1</th>\n",
       "      <td>Reviewing is actually a hobby of mine, and kno...</td>\n",
       "      <td>5</td>\n",
       "      <td>False</td>\n",
       "      <td>My favorite “social” app, game changer for veg...</td>\n",
       "      <td>2021-08-22 03:35:01</td>\n",
       "      <td>{'id': 24846835, 'body': 'TurdsInRocks, thank ...</td>\n",
       "      <td>TurdsInRocks</td>\n",
       "    </tr>\n",
       "  </tbody>\n",
       "</table>\n",
       "</div>"
      ],
      "text/plain": [
       "                                              review  rating  isEdited  \\\n",
       "0  I found this from an instagram ad and decided ...       5      True   \n",
       "1  Reviewing is actually a hobby of mine, and kno...       5     False   \n",
       "\n",
       "                                               title                date  \\\n",
       "0              Reviews = donations to sanctuaries!!! 2020-01-14 19:10:13   \n",
       "1  My favorite “social” app, game changer for veg... 2021-08-22 03:35:01   \n",
       "\n",
       "                                   developerResponse      userName  \n",
       "0  {'id': 11122362, 'body': 'Hey Sarah,\n",
       "\n",
       "Means so...  Sarahhhhhhho  \n",
       "1  {'id': 24846835, 'body': 'TurdsInRocks, thank ...  TurdsInRocks  "
      ]
     },
     "execution_count": 4,
     "metadata": {},
     "output_type": "execute_result"
    }
   ],
   "source": [
    "# Converting dictionary to dataframe\n",
    "\n",
    "reviews = pd.DataFrame.from_dict(app.reviews)\n",
    "reviews.head(2)"
   ]
  },
  {
   "cell_type": "code",
   "execution_count": 6,
   "id": "f9e9d9b0",
   "metadata": {},
   "outputs": [
    {
     "data": {
      "text/html": [
       "<div>\n",
       "<style scoped>\n",
       "    .dataframe tbody tr th:only-of-type {\n",
       "        vertical-align: middle;\n",
       "    }\n",
       "\n",
       "    .dataframe tbody tr th {\n",
       "        vertical-align: top;\n",
       "    }\n",
       "\n",
       "    .dataframe thead th {\n",
       "        text-align: right;\n",
       "    }\n",
       "</style>\n",
       "<table border=\"1\" class=\"dataframe\">\n",
       "  <thead>\n",
       "    <tr style=\"text-align: right;\">\n",
       "      <th></th>\n",
       "      <th>review</th>\n",
       "      <th>rating</th>\n",
       "      <th>isedited</th>\n",
       "      <th>title</th>\n",
       "      <th>review_datetime</th>\n",
       "      <th>dev</th>\n",
       "      <th>username</th>\n",
       "    </tr>\n",
       "  </thead>\n",
       "  <tbody>\n",
       "    <tr>\n",
       "      <th>0</th>\n",
       "      <td>I found this from an instagram ad and decided ...</td>\n",
       "      <td>5</td>\n",
       "      <td>True</td>\n",
       "      <td>Reviews = donations to sanctuaries!!!</td>\n",
       "      <td>2020-01-14 19:10:13</td>\n",
       "      <td>{'id': 11122362, 'body': 'Hey Sarah,\n",
       "\n",
       "Means so...</td>\n",
       "      <td>Sarahhhhhhho</td>\n",
       "    </tr>\n",
       "    <tr>\n",
       "      <th>1</th>\n",
       "      <td>Reviewing is actually a hobby of mine, and kno...</td>\n",
       "      <td>5</td>\n",
       "      <td>False</td>\n",
       "      <td>My favorite “social” app, game changer for veg...</td>\n",
       "      <td>2021-08-22 03:35:01</td>\n",
       "      <td>{'id': 24846835, 'body': 'TurdsInRocks, thank ...</td>\n",
       "      <td>TurdsInRocks</td>\n",
       "    </tr>\n",
       "  </tbody>\n",
       "</table>\n",
       "</div>"
      ],
      "text/plain": [
       "                                              review  rating  isedited  \\\n",
       "0  I found this from an instagram ad and decided ...       5      True   \n",
       "1  Reviewing is actually a hobby of mine, and kno...       5     False   \n",
       "\n",
       "                                               title     review_datetime  \\\n",
       "0              Reviews = donations to sanctuaries!!! 2020-01-14 19:10:13   \n",
       "1  My favorite “social” app, game changer for veg... 2021-08-22 03:35:01   \n",
       "\n",
       "                                                 dev      username  \n",
       "0  {'id': 11122362, 'body': 'Hey Sarah,\n",
       "\n",
       "Means so...  Sarahhhhhhho  \n",
       "1  {'id': 24846835, 'body': 'TurdsInRocks, thank ...  TurdsInRocks  "
      ]
     },
     "execution_count": 6,
     "metadata": {},
     "output_type": "execute_result"
    }
   ],
   "source": [
    "# Renaming columns for concision and lowercase everything for uniformity.\n",
    "\n",
    "reviews.rename(columns={'date': 'review_datetime', 'developerResponse': 'dev'}, inplace=True)\n",
    "reviews.columns = reviews.columns.str.lower()\n",
    "reviews.head(2)"
   ]
  },
  {
   "cell_type": "markdown",
   "id": "17fe3c67",
   "metadata": {},
   "source": [
    "## Unpacking Nested Dictionary"
   ]
  },
  {
   "cell_type": "markdown",
   "id": "4bd2daea",
   "metadata": {},
   "source": [
    "Handling the nested dictionary. We unpack the dictionary nested in ```dev``` onto the dataframe with the function below:"
   ]
  },
  {
   "cell_type": "code",
   "execution_count": 7,
   "id": "dd237c53",
   "metadata": {},
   "outputs": [],
   "source": [
    "def devresponse(row):\n",
    "    if pd.notnull(row['dev']):\n",
    "        row['id'] = row['dev']['id']\n",
    "        row['dev_response'] = row['dev']['body']\n",
    "        row['dev_response_datetime'] = row['dev']['modified']\n",
    "    return row\n",
    "\n",
    "reviews = reviews.apply(devresponse, axis=1)"
   ]
  },
  {
   "cell_type": "markdown",
   "id": "a7034462",
   "metadata": {},
   "source": [
    "## Converting developer's response date and time"
   ]
  },
  {
   "cell_type": "markdown",
   "id": "0a170ee3",
   "metadata": {},
   "source": [
    "Viewing the top 2 entries, notice that ```dev_response_datetime``` has a ```T``` and ```Z``` in it. The ```T``` doesn't really stand for anything. It is just the separator that the ISO 8601 combined date-time format requires. You can read it as an abbreviation for Time. The ```Z``` stands for the Zero timezone, as it is offset by 0 from the Coordinated Universal Time (UTC).\n",
    "\n",
    "If the developer has not responded, the values will return as ```nan```."
   ]
  },
  {
   "cell_type": "code",
   "execution_count": 8,
   "id": "8f359360",
   "metadata": {},
   "outputs": [
    {
     "data": {
      "text/html": [
       "<div>\n",
       "<style scoped>\n",
       "    .dataframe tbody tr th:only-of-type {\n",
       "        vertical-align: middle;\n",
       "    }\n",
       "\n",
       "    .dataframe tbody tr th {\n",
       "        vertical-align: top;\n",
       "    }\n",
       "\n",
       "    .dataframe thead th {\n",
       "        text-align: right;\n",
       "    }\n",
       "</style>\n",
       "<table border=\"1\" class=\"dataframe\">\n",
       "  <thead>\n",
       "    <tr style=\"text-align: right;\">\n",
       "      <th></th>\n",
       "      <th>dev</th>\n",
       "      <th>dev_response</th>\n",
       "      <th>dev_response_datetime</th>\n",
       "      <th>id</th>\n",
       "      <th>isedited</th>\n",
       "      <th>rating</th>\n",
       "      <th>review</th>\n",
       "      <th>review_datetime</th>\n",
       "      <th>title</th>\n",
       "      <th>username</th>\n",
       "    </tr>\n",
       "  </thead>\n",
       "  <tbody>\n",
       "    <tr>\n",
       "      <th>0</th>\n",
       "      <td>{'id': 11122362, 'body': 'Hey Sarah,\n",
       "\n",
       "Means so...</td>\n",
       "      <td>Hey Sarah,\\n\\nMeans so much to us that you got...</td>\n",
       "      <td>2020-01-14T19:10:13Z</td>\n",
       "      <td>11122362.0</td>\n",
       "      <td>True</td>\n",
       "      <td>5</td>\n",
       "      <td>I found this from an instagram ad and decided ...</td>\n",
       "      <td>2020-01-14 19:10:13</td>\n",
       "      <td>Reviews = donations to sanctuaries!!!</td>\n",
       "      <td>Sarahhhhhhho</td>\n",
       "    </tr>\n",
       "    <tr>\n",
       "      <th>1</th>\n",
       "      <td>{'id': 24846835, 'body': 'TurdsInRocks, thank ...</td>\n",
       "      <td>TurdsInRocks, thank you so much for your warm ...</td>\n",
       "      <td>2021-09-01T10:23:23Z</td>\n",
       "      <td>24846835.0</td>\n",
       "      <td>False</td>\n",
       "      <td>5</td>\n",
       "      <td>Reviewing is actually a hobby of mine, and kno...</td>\n",
       "      <td>2021-08-22 03:35:01</td>\n",
       "      <td>My favorite “social” app, game changer for veg...</td>\n",
       "      <td>TurdsInRocks</td>\n",
       "    </tr>\n",
       "  </tbody>\n",
       "</table>\n",
       "</div>"
      ],
      "text/plain": [
       "                                                 dev  \\\n",
       "0  {'id': 11122362, 'body': 'Hey Sarah,\n",
       "\n",
       "Means so...   \n",
       "1  {'id': 24846835, 'body': 'TurdsInRocks, thank ...   \n",
       "\n",
       "                                        dev_response dev_response_datetime  \\\n",
       "0  Hey Sarah,\\n\\nMeans so much to us that you got...  2020-01-14T19:10:13Z   \n",
       "1  TurdsInRocks, thank you so much for your warm ...  2021-09-01T10:23:23Z   \n",
       "\n",
       "           id  isedited  rating  \\\n",
       "0  11122362.0      True       5   \n",
       "1  24846835.0     False       5   \n",
       "\n",
       "                                              review     review_datetime  \\\n",
       "0  I found this from an instagram ad and decided ... 2020-01-14 19:10:13   \n",
       "1  Reviewing is actually a hobby of mine, and kno... 2021-08-22 03:35:01   \n",
       "\n",
       "                                               title      username  \n",
       "0              Reviews = donations to sanctuaries!!!  Sarahhhhhhho  \n",
       "1  My favorite “social” app, game changer for veg...  TurdsInRocks  "
      ]
     },
     "execution_count": 8,
     "metadata": {},
     "output_type": "execute_result"
    }
   ],
   "source": [
    "reviews.head(2)"
   ]
  },
  {
   "cell_type": "markdown",
   "id": "7d015e7c",
   "metadata": {},
   "source": [
    "Converting it into datetime format. Simply converting using ```pd.to_datetime``` converts all the available information, including the timezone. For UTC, datetime is denoted by +00:00. As such, we convert the datetime using ```dt.strftime``` with a specified format. In this case, we want to mimick the date and time format of the initial review, as shown in ```review_datetime```."
   ]
  },
  {
   "cell_type": "code",
   "execution_count": 9,
   "id": "253dd492",
   "metadata": {},
   "outputs": [
    {
     "data": {
      "text/plain": [
       "0     2020-01-14 19:10:13+00:00\n",
       "1     2021-09-01 10:23:23+00:00\n",
       "2     2019-08-02 03:38:59+00:00\n",
       "3     2019-08-02 04:07:39+00:00\n",
       "4                           NaT\n",
       "                 ...           \n",
       "156   2021-12-14 17:14:20+00:00\n",
       "157                         NaT\n",
       "158   2019-08-02 04:10:06+00:00\n",
       "159   2019-09-03 10:31:13+00:00\n",
       "160   2019-08-02 04:59:21+00:00\n",
       "Name: dev_response_datetime, Length: 161, dtype: datetime64[ns, UTC]"
      ]
     },
     "execution_count": 9,
     "metadata": {},
     "output_type": "execute_result"
    }
   ],
   "source": [
    "pd.to_datetime(reviews['dev_response_datetime'])"
   ]
  },
  {
   "cell_type": "code",
   "execution_count": 10,
   "id": "516b34e6",
   "metadata": {},
   "outputs": [
    {
     "data": {
      "text/html": [
       "<div>\n",
       "<style scoped>\n",
       "    .dataframe tbody tr th:only-of-type {\n",
       "        vertical-align: middle;\n",
       "    }\n",
       "\n",
       "    .dataframe tbody tr th {\n",
       "        vertical-align: top;\n",
       "    }\n",
       "\n",
       "    .dataframe thead th {\n",
       "        text-align: right;\n",
       "    }\n",
       "</style>\n",
       "<table border=\"1\" class=\"dataframe\">\n",
       "  <thead>\n",
       "    <tr style=\"text-align: right;\">\n",
       "      <th></th>\n",
       "      <th>dev</th>\n",
       "      <th>dev_response</th>\n",
       "      <th>dev_response_datetime</th>\n",
       "      <th>id</th>\n",
       "      <th>isedited</th>\n",
       "      <th>rating</th>\n",
       "      <th>review</th>\n",
       "      <th>review_datetime</th>\n",
       "      <th>title</th>\n",
       "      <th>username</th>\n",
       "    </tr>\n",
       "  </thead>\n",
       "  <tbody>\n",
       "    <tr>\n",
       "      <th>0</th>\n",
       "      <td>{'id': 11122362, 'body': 'Hey Sarah,\n",
       "\n",
       "Means so...</td>\n",
       "      <td>Hey Sarah,\\n\\nMeans so much to us that you got...</td>\n",
       "      <td>2020-01-14 19:10:13</td>\n",
       "      <td>11122362.0</td>\n",
       "      <td>True</td>\n",
       "      <td>5</td>\n",
       "      <td>I found this from an instagram ad and decided ...</td>\n",
       "      <td>2020-01-14 19:10:13</td>\n",
       "      <td>Reviews = donations to sanctuaries!!!</td>\n",
       "      <td>Sarahhhhhhho</td>\n",
       "    </tr>\n",
       "    <tr>\n",
       "      <th>1</th>\n",
       "      <td>{'id': 24846835, 'body': 'TurdsInRocks, thank ...</td>\n",
       "      <td>TurdsInRocks, thank you so much for your warm ...</td>\n",
       "      <td>2021-09-01 10:23:23</td>\n",
       "      <td>24846835.0</td>\n",
       "      <td>False</td>\n",
       "      <td>5</td>\n",
       "      <td>Reviewing is actually a hobby of mine, and kno...</td>\n",
       "      <td>2021-08-22 03:35:01</td>\n",
       "      <td>My favorite “social” app, game changer for veg...</td>\n",
       "      <td>TurdsInRocks</td>\n",
       "    </tr>\n",
       "  </tbody>\n",
       "</table>\n",
       "</div>"
      ],
      "text/plain": [
       "                                                 dev  \\\n",
       "0  {'id': 11122362, 'body': 'Hey Sarah,\n",
       "\n",
       "Means so...   \n",
       "1  {'id': 24846835, 'body': 'TurdsInRocks, thank ...   \n",
       "\n",
       "                                        dev_response dev_response_datetime  \\\n",
       "0  Hey Sarah,\\n\\nMeans so much to us that you got...   2020-01-14 19:10:13   \n",
       "1  TurdsInRocks, thank you so much for your warm ...   2021-09-01 10:23:23   \n",
       "\n",
       "           id  isedited  rating  \\\n",
       "0  11122362.0      True       5   \n",
       "1  24846835.0     False       5   \n",
       "\n",
       "                                              review     review_datetime  \\\n",
       "0  I found this from an instagram ad and decided ... 2020-01-14 19:10:13   \n",
       "1  Reviewing is actually a hobby of mine, and kno... 2021-08-22 03:35:01   \n",
       "\n",
       "                                               title      username  \n",
       "0              Reviews = donations to sanctuaries!!!  Sarahhhhhhho  \n",
       "1  My favorite “social” app, game changer for veg...  TurdsInRocks  "
      ]
     },
     "execution_count": 10,
     "metadata": {},
     "output_type": "execute_result"
    }
   ],
   "source": [
    "reviews['dev_response_datetime'] = pd.to_datetime(reviews['dev_response_datetime']).dt.strftime('%Y-%m-%d %H:%M:%S')\n",
    "reviews.head(2)"
   ]
  },
  {
   "cell_type": "markdown",
   "id": "0f1fff51",
   "metadata": {},
   "source": [
    "Note that the data type for ```dev_response_datetime``` is still an ```object```."
   ]
  },
  {
   "cell_type": "code",
   "execution_count": 11,
   "id": "97029c0a",
   "metadata": {},
   "outputs": [
    {
     "name": "stdout",
     "output_type": "stream",
     "text": [
      "<class 'pandas.core.frame.DataFrame'>\n",
      "RangeIndex: 161 entries, 0 to 160\n",
      "Data columns (total 10 columns):\n",
      " #   Column                 Non-Null Count  Dtype         \n",
      "---  ------                 --------------  -----         \n",
      " 0   dev                    100 non-null    object        \n",
      " 1   dev_response           100 non-null    object        \n",
      " 2   dev_response_datetime  100 non-null    object        \n",
      " 3   id                     100 non-null    float64       \n",
      " 4   isedited               161 non-null    bool          \n",
      " 5   rating                 161 non-null    int64         \n",
      " 6   review                 161 non-null    object        \n",
      " 7   review_datetime        161 non-null    datetime64[ns]\n",
      " 8   title                  161 non-null    object        \n",
      " 9   username               161 non-null    object        \n",
      "dtypes: bool(1), datetime64[ns](1), float64(1), int64(1), object(6)\n",
      "memory usage: 11.6+ KB\n"
     ]
    }
   ],
   "source": [
    "reviews.info()"
   ]
  },
  {
   "cell_type": "markdown",
   "id": "f48a5a8b",
   "metadata": {},
   "source": [
    "We then convert it into datetime format with the following code:"
   ]
  },
  {
   "cell_type": "code",
   "execution_count": 12,
   "id": "6f3086b3",
   "metadata": {},
   "outputs": [],
   "source": [
    "reviews['dev_response_datetime'] = pd.to_datetime(reviews['dev_response_datetime'])"
   ]
  },
  {
   "cell_type": "code",
   "execution_count": 13,
   "id": "e009c879",
   "metadata": {},
   "outputs": [
    {
     "name": "stdout",
     "output_type": "stream",
     "text": [
      "<class 'pandas.core.frame.DataFrame'>\n",
      "RangeIndex: 161 entries, 0 to 160\n",
      "Data columns (total 10 columns):\n",
      " #   Column                 Non-Null Count  Dtype         \n",
      "---  ------                 --------------  -----         \n",
      " 0   dev                    100 non-null    object        \n",
      " 1   dev_response           100 non-null    object        \n",
      " 2   dev_response_datetime  100 non-null    datetime64[ns]\n",
      " 3   id                     100 non-null    float64       \n",
      " 4   isedited               161 non-null    bool          \n",
      " 5   rating                 161 non-null    int64         \n",
      " 6   review                 161 non-null    object        \n",
      " 7   review_datetime        161 non-null    datetime64[ns]\n",
      " 8   title                  161 non-null    object        \n",
      " 9   username               161 non-null    object        \n",
      "dtypes: bool(1), datetime64[ns](2), float64(1), int64(1), object(5)\n",
      "memory usage: 11.6+ KB\n"
     ]
    }
   ],
   "source": [
    "reviews.info()"
   ]
  },
  {
   "cell_type": "markdown",
   "id": "f5cf3ab3",
   "metadata": {},
   "source": [
    "## Saving data to CSV"
   ]
  },
  {
   "cell_type": "markdown",
   "id": "c6c4e6a8",
   "metadata": {},
   "source": [
    "Lastly, save the reviews to csv."
   ]
  },
  {
   "cell_type": "code",
   "execution_count": 14,
   "id": "df589bbf",
   "metadata": {},
   "outputs": [],
   "source": [
    "reviews.to_csv('abillionveg_app_store_reviews.csv', index=False)"
   ]
  },
  {
   "cell_type": "markdown",
   "id": "043aab44",
   "metadata": {},
   "source": [
    "And we're done. The ```reviews``` dataset is set to be used however you please."
   ]
  }
 ],
 "metadata": {
  "kernelspec": {
   "display_name": "Python 3 (ipykernel)",
   "language": "python",
   "name": "python3"
  },
  "language_info": {
   "codemirror_mode": {
    "name": "ipython",
    "version": 3
   },
   "file_extension": ".py",
   "mimetype": "text/x-python",
   "name": "python",
   "nbconvert_exporter": "python",
   "pygments_lexer": "ipython3",
   "version": "3.7.11"
  },
  "toc": {
   "base_numbering": 1,
   "nav_menu": {},
   "number_sections": true,
   "sideBar": true,
   "skip_h1_title": false,
   "title_cell": "Table of Contents",
   "title_sidebar": "Contents",
   "toc_cell": false,
   "toc_position": {},
   "toc_section_display": true,
   "toc_window_display": true
  }
 },
 "nbformat": 4,
 "nbformat_minor": 5
}
